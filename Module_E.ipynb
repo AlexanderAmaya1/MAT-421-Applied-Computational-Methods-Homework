{
  "nbformat": 4,
  "nbformat_minor": 0,
  "metadata": {
    "colab": {
      "name": "Module_E.ipynb",
      "provenance": [],
      "authorship_tag": "ABX9TyO/FaK1c/qlaR/z6jbloZgz",
      "include_colab_link": true
    },
    "kernelspec": {
      "name": "python3",
      "display_name": "Python 3"
    },
    "language_info": {
      "name": "python"
    }
  },
  "cells": [
    {
      "cell_type": "markdown",
      "metadata": {
        "id": "view-in-github",
        "colab_type": "text"
      },
      "source": [
        "<a href=\"https://colab.research.google.com/github/AlexanderAmaya1/MAT-421-Homework/blob/main/Module_E.ipynb\" target=\"_parent\"><img src=\"https://colab.research.google.com/assets/colab-badge.svg\" alt=\"Open In Colab\"/></a>"
      ]
    },
    {
      "cell_type": "markdown",
      "source": [
        "# Module E: Differentation and Taylor Approximation\n",
        "Alexander Amaya"
      ],
      "metadata": {
        "id": "l6i4Wx7Vrtgg"
      }
    },
    {
      "cell_type": "markdown",
      "source": [
        "## 3.2: Continunity and Differentiation "
      ],
      "metadata": {
        "id": "wkBbFxZrsDV_"
      }
    },
    {
      "cell_type": "code",
      "execution_count": 25,
      "metadata": {
        "colab": {
          "base_uri": "https://localhost:8080/"
        },
        "id": "CJUHvhXUrmrk",
        "outputId": "82eb2a76-b9c0-4a00-f2ae-c59773e2f37b"
      },
      "outputs": [
        {
          "output_type": "stream",
          "name": "stdout",
          "text": [
            "The function demonstrated is: x**2 - x - 6\n",
            "The symbolic first derivative: 2*x - 1\n",
            "The derivatve of f at 0 is: -1\n"
          ]
        }
      ],
      "source": [
        "import numpy as np\n",
        "import sympy as sp\n",
        "\n",
        "\n",
        "# This function uses the limit defination of a derivative to calculate the derivative of the fucntion at a point or symbolically\n",
        "def first_derivative(f, x0):\n",
        "  h = sp.symbols('h')\n",
        "\n",
        "  limit_expression = (f(x0 + h) - f(x0)) / h\n",
        "\n",
        "  derivative_at_x0 = sp.limit(limit_expression, h, 0)\n",
        "\n",
        "  return derivative_at_x0 \n",
        "\n",
        "\n",
        "\n",
        "f = lambda x: x**2-x-6\n",
        "\n",
        "print(\"The function demonstrated is: \"+str(f(x)))\n",
        "\n",
        "print(\"The symbolic first derivative: \"+str(first_derivative(f,x)))\n",
        "\n",
        "print('The derivatve of f at 0 is: '+str(first_derivative(f,0)))"
      ]
    },
    {
      "cell_type": "markdown",
      "source": [
        "In this example I created a function that can calculate and display the first derivative of a function symbolically or at a point. This function uses the limit defination of a derivative to calculate the answer.\n",
        "\n",
        "\n",
        "$f'(x_0)=\\lim_{h \\to 0} \\frac{f(x_o+h)-f(x0)}{h}$\n",
        "\n",
        "\n",
        "\n",
        "\n",
        "\n",
        "---\n",
        "\n"
      ],
      "metadata": {
        "id": "SiUCX71y399T"
      }
    },
    {
      "cell_type": "markdown",
      "source": [
        "## 3.3: Unconstrained Optimization"
      ],
      "metadata": {
        "id": "n_QcFkmu4-Ak"
      }
    },
    {
      "cell_type": "code",
      "source": [
        "import numpy as np\n",
        "import sympy as sp\n",
        "from scipy import optimize\n",
        "\n",
        "def first_derivative(f, x0):\n",
        "  h = sp.symbols('h')\n",
        "\n",
        "  limit_expression = (f(x0 + h) - f(x0)) / h\n",
        "\n",
        "  f_prime = sp.limit(limit_expression, h, 0)\n",
        "\n",
        "  return f_prime\n",
        "\n",
        "\n",
        "def function_minimum(f, x):\n",
        "\n",
        "  f_prime = lambda x: first_derivative(f, x)\n",
        "  print(f_prime(x))\n",
        "  root = optimize.root_scalar(f_prime, bracket=[-1, 10], method='brentq')\n",
        "\n",
        "  #print(root)\n",
        "\n",
        "  return root.root, f(root.root)\n",
        "\n",
        "\n",
        "f = lambda x: x**2-x-6\n",
        "\n",
        "print(function_minimum(f,x))\n",
        "\n"
      ],
      "metadata": {
        "colab": {
          "base_uri": "https://localhost:8080/"
        },
        "id": "jdklpMUM5sde",
        "outputId": "d62c9876-de14-40d6-d808-ebac32da2204"
      },
      "execution_count": 62,
      "outputs": [
        {
          "output_type": "stream",
          "name": "stdout",
          "text": [
            "2*x - 1\n",
            "(0.5, -6.25)\n"
          ]
        }
      ]
    },
    {
      "cell_type": "markdown",
      "source": [
        "This function finds the global maximum/minimum of the function by finding the roots of the derivative of the function. "
      ],
      "metadata": {
        "id": "v7jv5l9U5s0D"
      }
    }
  ]
}