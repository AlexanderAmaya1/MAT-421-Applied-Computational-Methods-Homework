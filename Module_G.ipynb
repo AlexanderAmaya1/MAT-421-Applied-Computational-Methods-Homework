{
  "nbformat": 4,
  "nbformat_minor": 0,
  "metadata": {
    "colab": {
      "name": "Module_G.ipynb",
      "provenance": [],
      "authorship_tag": "ABX9TyN05SE2+mwxvf902yP7TC8o",
      "include_colab_link": true
    },
    "kernelspec": {
      "name": "python3",
      "display_name": "Python 3"
    },
    "language_info": {
      "name": "python"
    }
  },
  "cells": [
    {
      "cell_type": "markdown",
      "metadata": {
        "id": "view-in-github",
        "colab_type": "text"
      },
      "source": [
        "<a href=\"https://colab.research.google.com/github/AlexanderAmaya1/MAT-421-Applied-Computational-Methods-Homework/blob/main/Module_G.ipynb\" target=\"_parent\"><img src=\"https://colab.research.google.com/assets/colab-badge.svg\" alt=\"Open In Colab\"/></a>"
      ]
    },
    {
      "cell_type": "markdown",
      "source": [
        "# Module E: Numerical Integration\n",
        "Alexander Amaya"
      ],
      "metadata": {
        "id": "E16SZ4mGwFay"
      }
    },
    {
      "cell_type": "markdown",
      "source": [
        "## 21.1: Numerical Integration Problem Statement"
      ],
      "metadata": {
        "id": "gIoFkFCuwb-O"
      }
    },
    {
      "cell_type": "code",
      "execution_count": 16,
      "metadata": {
        "colab": {
          "base_uri": "https://localhost:8080/"
        },
        "id": "nOM0d1kQuncL",
        "outputId": "e393014b-6b48-4294-8955-33bd257de63e"
      },
      "outputs": [
        {
          "output_type": "stream",
          "name": "stdout",
          "text": [
            "0.33539094650205764\n"
          ]
        }
      ],
      "source": [
        "import numpy as np\n",
        "\n",
        "\n",
        "x = np.linspace(0,1,10)\n",
        "\n",
        "f = lambda x: x*x\n",
        "\n",
        "y = f(x)\n",
        "\n",
        "\n",
        "print(np.trapz(y,x))\n"
      ]
    },
    {
      "cell_type": "markdown",
      "source": [
        "For the problem statement, I set up an integration problem and solved it using a built in function in numpy. This integral will be used in the remaining examples. The integral is as follows:\n",
        "\n",
        "$\\int_{0}^{1}x^2 dx$\n",
        "\n"
      ],
      "metadata": {
        "id": "naW1A_1lP9NV"
      }
    },
    {
      "cell_type": "markdown",
      "source": [
        "## 21.2: Riemann's Integral"
      ],
      "metadata": {
        "id": "yq24UF8ryihW"
      }
    },
    {
      "cell_type": "code",
      "source": [
        "import numpy as np\n",
        "\n",
        "def spacing(b, a, n):\n",
        "\n",
        "  return (b-a)/n\n",
        "\n",
        "\n",
        "def reimann(a,b,f,n):\n",
        "  x = np.linspace(a,b,n)\n",
        "  h = spacing(b,a,n)\n",
        "  sum = 0\n",
        "\n",
        "  for i in x:\n",
        "    sum += f(i)\n",
        "\n",
        "  return h * sum\n",
        "\n",
        "\n",
        "f = lambda x: x*x\n",
        "\n",
        "integral = reimann (0,1,f,10)\n",
        "print(integral)\n"
      ],
      "metadata": {
        "colab": {
          "base_uri": "https://localhost:8080/"
        },
        "id": "3jH8mrypyo9a",
        "outputId": "df26a302-c071-45e2-d22d-a97cb7547c7e"
      },
      "execution_count": 12,
      "outputs": [
        {
          "output_type": "stream",
          "name": "stdout",
          "text": [
            "0.35185185185185186\n"
          ]
        }
      ]
    },
    {
      "cell_type": "markdown",
      "source": [
        "In this example I implemented an custom function that calculates a Riemann sum for a function given the starting point, the ending point, the function, and the number of rectangles.\n",
        "\n",
        "\n",
        "\n",
        "---\n",
        "\n"
      ],
      "metadata": {
        "id": "vUJzHNXLKbAw"
      }
    },
    {
      "cell_type": "markdown",
      "source": [
        "## 21.3: Trapeziod Rule"
      ],
      "metadata": {
        "id": "x3Q1EvPVLIz9"
      }
    },
    {
      "cell_type": "code",
      "source": [
        "import numpy as np\n",
        "\n",
        "def spacing(b, a, n):\n",
        "\n",
        "  return (b-a)/n\n",
        "\n",
        "def trapezoid(a,b,f,n):\n",
        "  x = np.linspace(a,b,n)\n",
        "  h = spacing(b,a,n)\n",
        "\n",
        "  sum = 0\n",
        "\n",
        "  for i in range(0,n-1):\n",
        "    sum += (f(x[i])+f(x[i+1]))/2\n",
        "  \n",
        "  return h * sum\n",
        "\n",
        "f = lambda x: x*x\n",
        "\n",
        "integral = trapezoid(0,1,f,10)\n",
        "print(integral)\n"
      ],
      "metadata": {
        "colab": {
          "base_uri": "https://localhost:8080/"
        },
        "id": "DWaxw4FCMSom",
        "outputId": "2c442ef2-00da-4e4b-a0d9-6556e86d323a"
      },
      "execution_count": 13,
      "outputs": [
        {
          "output_type": "stream",
          "name": "stdout",
          "text": [
            "0.3018518518518518\n"
          ]
        }
      ]
    },
    {
      "cell_type": "markdown",
      "source": [
        "\n",
        "In this example I implemented an custom function that calculates an integral using the trapezoidal sum for a function given the starting point, the ending point, the function, and the number of trapezoids.\n",
        "\n"
      ],
      "metadata": {
        "id": "US0AjD2MOtMA"
      }
    }
  ]
}