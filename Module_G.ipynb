{
  "nbformat": 4,
  "nbformat_minor": 0,
  "metadata": {
    "colab": {
      "name": "Module_G.ipynb",
      "provenance": [],
      "authorship_tag": "ABX9TyOTeW3yPz94swcvqM2Pq93r",
      "include_colab_link": true
    },
    "kernelspec": {
      "name": "python3",
      "display_name": "Python 3"
    },
    "language_info": {
      "name": "python"
    }
  },
  "cells": [
    {
      "cell_type": "markdown",
      "metadata": {
        "id": "view-in-github",
        "colab_type": "text"
      },
      "source": [
        "<a href=\"https://colab.research.google.com/github/AlexanderAmaya1/MAT-421-Applied-Computational-Methods-Homework/blob/main/Module_G.ipynb\" target=\"_parent\"><img src=\"https://colab.research.google.com/assets/colab-badge.svg\" alt=\"Open In Colab\"/></a>"
      ]
    },
    {
      "cell_type": "markdown",
      "source": [
        "# Module G: Numerical Integration\n",
        "Alexander Amaya"
      ],
      "metadata": {
        "id": "E16SZ4mGwFay"
      }
    },
    {
      "cell_type": "markdown",
      "source": [
        "## 21.1: Numerical Integration Problem Statement"
      ],
      "metadata": {
        "id": "gIoFkFCuwb-O"
      }
    },
    {
      "cell_type": "code",
      "execution_count": null,
      "metadata": {
        "colab": {
          "base_uri": "https://localhost:8080/"
        },
        "id": "nOM0d1kQuncL",
        "outputId": "e393014b-6b48-4294-8955-33bd257de63e"
      },
      "outputs": [
        {
          "output_type": "stream",
          "name": "stdout",
          "text": [
            "0.33539094650205764\n"
          ]
        }
      ],
      "source": [
        "import numpy as np\n",
        "\n",
        "\n",
        "x = np.linspace(0,1,10)\n",
        "\n",
        "f = lambda x: x*x\n",
        "\n",
        "y = f(x)\n",
        "\n",
        "\n",
        "print(np.trapz(y,x))\n"
      ]
    },
    {
      "cell_type": "markdown",
      "source": [
        "For the problem statement, I set up an integration problem and solved it using a built in function in numpy. This integral will be used in the remaining examples. The integral is as follows:\n",
        "\n",
        "$\\int_{0}^{1}x^2 dx$\n",
        "\n"
      ],
      "metadata": {
        "id": "naW1A_1lP9NV"
      }
    },
    {
      "cell_type": "markdown",
      "source": [
        "## 21.2: Riemann's Integral"
      ],
      "metadata": {
        "id": "yq24UF8ryihW"
      }
    },
    {
      "cell_type": "code",
      "source": [
        "import numpy as np\n",
        "\n",
        "def spacing(b, a, n):\n",
        "\n",
        "  return (b-a)/n\n",
        "\n",
        "\n",
        "def reimann(a,b,f,n):\n",
        "  x = np.linspace(a,b,n)\n",
        "  h = spacing(b,a,n)\n",
        "  sum = 0\n",
        "\n",
        "  for i in x:\n",
        "    sum += f(i)\n",
        "\n",
        "  return h * sum\n",
        "\n",
        "\n",
        "f = lambda x: x*x\n",
        "\n",
        "integral = reimann (0,1,f,10)\n",
        "print(integral)\n"
      ],
      "metadata": {
        "colab": {
          "base_uri": "https://localhost:8080/"
        },
        "id": "3jH8mrypyo9a",
        "outputId": "df26a302-c071-45e2-d22d-a97cb7547c7e"
      },
      "execution_count": null,
      "outputs": [
        {
          "output_type": "stream",
          "name": "stdout",
          "text": [
            "0.35185185185185186\n"
          ]
        }
      ]
    },
    {
      "cell_type": "markdown",
      "source": [
        "In this example I implemented an custom function that calculates a Riemann sum for a function given the starting point, the ending point, the function, and the number of rectangles.\n",
        "\n",
        "\n",
        "\n",
        "---\n",
        "\n"
      ],
      "metadata": {
        "id": "vUJzHNXLKbAw"
      }
    },
    {
      "cell_type": "markdown",
      "source": [
        "## 21.3: Trapeziod Rule"
      ],
      "metadata": {
        "id": "x3Q1EvPVLIz9"
      }
    },
    {
      "cell_type": "code",
      "source": [
        "import numpy as np\n",
        "\n",
        "def spacing(b, a, n):\n",
        "\n",
        "  return (b-a)/n\n",
        "\n",
        "def trapezoid(a,b,f,n):\n",
        "  x = np.linspace(a,b,n)\n",
        "  h = spacing(b,a,n)\n",
        "\n",
        "  sum = 0\n",
        "\n",
        "  for i in range(0,n-1):\n",
        "    sum += (f(x[i])+f(x[i+1]))/2\n",
        "  \n",
        "  return h * sum\n",
        "\n",
        "f = lambda x: x*x\n",
        "\n",
        "integral = trapezoid(0,1,f,10)\n",
        "print(integral)\n"
      ],
      "metadata": {
        "colab": {
          "base_uri": "https://localhost:8080/"
        },
        "id": "DWaxw4FCMSom",
        "outputId": "2c442ef2-00da-4e4b-a0d9-6556e86d323a"
      },
      "execution_count": null,
      "outputs": [
        {
          "output_type": "stream",
          "name": "stdout",
          "text": [
            "0.3018518518518518\n"
          ]
        }
      ]
    },
    {
      "cell_type": "markdown",
      "source": [
        "\n",
        "In this example I implemented an custom function that calculates an integral using the trapezoidal sum for a function given the starting point, the ending point, the function, and the number of trapezoids.\n",
        "\n",
        "\n",
        "---\n",
        "\n",
        "\n"
      ],
      "metadata": {
        "id": "US0AjD2MOtMA"
      }
    },
    {
      "cell_type": "markdown",
      "source": [
        "## 21.4: Simpson's Rule"
      ],
      "metadata": {
        "id": "LpHxYvSat_Ix"
      }
    },
    {
      "cell_type": "code",
      "source": [
        "import numpy as np\n",
        "\n",
        "def spacing(b, a, n):\n",
        "\n",
        "  return (b-a)/n\n",
        "\n",
        "def simpsons(b,a,f,n):\n",
        "  x = np.linspace(a,b,n)\n",
        "  h = spacing(b,a,n)\n",
        "\n",
        "  sum_even = 0\n",
        "  for i in range(2,n-1,2):\n",
        "    sum_even += f(x[i])\n",
        "\n",
        "  sum_odd = 0\n",
        "  for i in range(1,n,2):\n",
        "    sum_odd += f(x[i])\n",
        "\n",
        "  return (h/3) * (f(x[0]) + (4*sum_odd) + (2*sum_even) + f(x[n-1]))\n",
        "\n",
        "f = lambda x: x*x\n",
        "\n",
        "integral = simpsons(1,0,f,13)\n",
        "print(integral)\n",
        "\n"
      ],
      "metadata": {
        "colab": {
          "base_uri": "https://localhost:8080/"
        },
        "id": "tT7cXoo0uFbF",
        "outputId": "7a704a94-2a9f-4484-a212-332b38516899"
      },
      "execution_count": 10,
      "outputs": [
        {
          "output_type": "stream",
          "name": "stdout",
          "text": [
            "0.3076923076923077\n"
          ]
        }
      ]
    },
    {
      "cell_type": "markdown",
      "source": [
        "In this example I implemented an custom function that calculates an integral using Simpson's rule for a function given the starting point, the ending point, the function, and the number of intervals.\n",
        "\n",
        "\n",
        "---\n",
        "\n"
      ],
      "metadata": {
        "id": "GkSfED95wrnl"
      }
    },
    {
      "cell_type": "markdown",
      "source": [
        "## Computing Integrals in Python"
      ],
      "metadata": {
        "id": "keDQzb9GwzHk"
      }
    },
    {
      "cell_type": "code",
      "source": [
        "import numpy as np\n",
        "from scipy.integrate import trapz\n",
        "\n",
        "\n",
        "x = np.linspace(0,1,10)\n",
        "#f = np.polynomial.Polynomial([1,0,0])\n",
        "f = lambda x: x*x\n",
        "\n",
        "y = []\n",
        "for i in x:\n",
        "  y.append(f(i))\n",
        "\n",
        "\n",
        "integral = trapz(y,x)\n",
        "print(integral)\n"
      ],
      "metadata": {
        "colab": {
          "base_uri": "https://localhost:8080/"
        },
        "id": "foFpRi0wxcU-",
        "outputId": "8d552ebe-5613-44cb-9e0d-0856ac87dfa2"
      },
      "execution_count": 20,
      "outputs": [
        {
          "output_type": "stream",
          "name": "stdout",
          "text": [
            "0.33539094650205764\n"
          ]
        }
      ]
    },
    {
      "cell_type": "markdown",
      "source": [
        "For this example I used the scipy function to integrate according the to trapezodial rule. "
      ],
      "metadata": {
        "id": "hp7twNIJzh38"
      }
    }
  ]
}