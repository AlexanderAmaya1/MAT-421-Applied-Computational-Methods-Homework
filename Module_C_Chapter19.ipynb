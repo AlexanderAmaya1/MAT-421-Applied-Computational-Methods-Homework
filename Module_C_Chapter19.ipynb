{
  "nbformat": 4,
  "nbformat_minor": 0,
  "metadata": {
    "colab": {
      "name": "Module_C_Chapter19.ipynb",
      "provenance": [],
      "authorship_tag": "ABX9TyOm2KUJl2D2+w4aFPpiTm0J",
      "include_colab_link": true
    },
    "kernelspec": {
      "name": "python3",
      "display_name": "Python 3"
    },
    "language_info": {
      "name": "python"
    }
  },
  "cells": [
    {
      "cell_type": "markdown",
      "metadata": {
        "id": "view-in-github",
        "colab_type": "text"
      },
      "source": [
        "<a href=\"https://colab.research.google.com/github/AlexanderAmaya1/MAT-421-Homework/blob/main/Module_C_Chapter19.ipynb\" target=\"_parent\"><img src=\"https://colab.research.google.com/assets/colab-badge.svg\" alt=\"Open In Colab\"/></a>"
      ]
    },
    {
      "cell_type": "markdown",
      "source": [
        "# Module C: Root Finding\n",
        "Alexander Amaya"
      ],
      "metadata": {
        "id": "hOkOJutcHtkJ"
      }
    },
    {
      "cell_type": "markdown",
      "source": [
        "## 19.1: Root Finding Problem Statement"
      ],
      "metadata": {
        "id": "Zd4G1pmdQd77"
      }
    },
    {
      "cell_type": "code",
      "execution_count": null,
      "metadata": {
        "colab": {
          "base_uri": "https://localhost:8080/"
        },
        "id": "H8REI70BHC4l",
        "outputId": "bca2e713-d2bd-4a79-bee9-f7fc7bdfd208"
      },
      "outputs": [
        {
          "output_type": "stream",
          "name": "stdout",
          "text": [
            "Real Roots w/ Quadratic Formula: \n",
            "[-2.0, 6.0]\n",
            "\n",
            "\n",
            "Imaginary Roots w/ Quadratic Formula: \n",
            "[nan, nan]\n",
            "\n",
            "\n",
            "Real Roots w/ Solver: \n",
            "[-2.0, 6.0]\n",
            "\n",
            "\n",
            "Imaginary Roots w/ Solver: \n",
            "(array([-1.99804688]), 'The iteration is not making good progress, as measured by the \\n  improvement from the last ten iterations.')\n",
            "\n",
            "\n"
          ]
        },
        {
          "output_type": "stream",
          "name": "stderr",
          "text": [
            "/usr/local/lib/python3.7/dist-packages/ipykernel_launcher.py:8: RuntimeWarning: invalid value encountered in sqrt\n",
            "  \n",
            "/usr/local/lib/python3.7/dist-packages/ipykernel_launcher.py:10: RuntimeWarning: invalid value encountered in sqrt\n",
            "  # Remove the CWD from sys.path while we load stuff.\n"
          ]
        }
      ],
      "source": [
        "import numpy as np\n",
        "from scipy import optimize\n",
        "\n",
        "# Solves Quadratics Using the Quadratic Formula \n",
        "def quadratic_root(a ,b, c):\n",
        "  roots = []\n",
        "  \n",
        "  r1 = ((-1*b) + np.sqrt(b**2 - (4*a*c)))/(2*a)\n",
        "\n",
        "  r2 = ((-1*b) - np.sqrt(b**2 - (4*a*c)))/(2*a)\n",
        "\n",
        "  roots.append(r1)\n",
        "  roots.append(r2)\n",
        "  return roots\n",
        "\n",
        "# Solves functions using fsolve\n",
        "def simple_root_solver(f, near):\n",
        "\n",
        "  r, infodict, ier, mesg = optimize.fsolve(f,near, full_output=True) \n",
        "\n",
        "  return r,mesg \n",
        "\n",
        "\n",
        "\n",
        "# Quadratic Function - real roots\n",
        "a = -1\n",
        "b = 4\n",
        "c = 12\n",
        "\n",
        "roots = quadratic_root(a,b,c)\n",
        "print(\"Real Roots w/ Quadratic Formula: \")\n",
        "print(roots)\n",
        "print('\\n')\n",
        "\n",
        "# Quadratic Function - imaginary roots\n",
        "a = 1\n",
        "b = 4\n",
        "c = 12\n",
        "\n",
        "roots = quadratic_root(a,b,c)\n",
        "print(\"Imaginary Roots w/ Quadratic Formula: \")\n",
        "print(roots)\n",
        "print('\\n')\n",
        "\n",
        "\n",
        "# Simple Solver - Real Roots\n",
        "f = lambda x: -x**2 + 4*x +12\n",
        "\n",
        "slvr_roots = []\n",
        "\n",
        "slvr_roots.append(round(float(simple_root_solver(f, 0)[0]),1))\n",
        "slvr_roots.append(float(simple_root_solver(f, 5)[0]))\n",
        "print(\"Real Roots w/ Solver: \")\n",
        "print(slvr_roots)\n",
        "print('\\n')\n",
        "\n",
        "\n",
        "# Simple Solver - imaginary roots\n",
        "\n",
        "f = lambda x: x**2 + 4*x +12\n",
        "print(\"Imaginary Roots w/ Solver: \")\n",
        "print(simple_root_solver(f, 0))\n",
        "print('\\n')\n",
        "\n",
        "\n",
        "\n"
      ]
    },
    {
      "cell_type": "markdown",
      "source": [
        "To demonstrate the problem statement I created two simple functions. The first function, *quadratic_root*,  is a simple quadratic equation solver that utilizes the quatratic formula. The second function, *simple_root_solver*, utilizes the fsolver function to calculate the roots. To test these functions, a quadtratic function with real roots and imaginary roots was passed to these functions. Neither function could adequately handle non-real roots. "
      ],
      "metadata": {
        "id": "YXrv2VfVKaoQ"
      }
    },
    {
      "cell_type": "markdown",
      "source": [
        "\n",
        "\n",
        "---\n",
        "\n"
      ],
      "metadata": {
        "id": "iH_OvMceQjBY"
      }
    },
    {
      "cell_type": "markdown",
      "source": [
        "## 19.2: Tolerance "
      ],
      "metadata": {
        "id": "p_YOPzU3QjmU"
      }
    },
    {
      "cell_type": "code",
      "source": [
        "import numpy as np\n",
        "from scipy import optimize\n",
        "\n",
        "def bisection(f,a,b,tol,actual):\n",
        "\n",
        "  mid = (a+b)/2\n",
        "\n",
        "  if np.abs(f(mid)) < tol:\n",
        "\n",
        "    return mid\n",
        "\n",
        "  elif np.sign(f(a))== np.sign(f(mid)):\n",
        "\n",
        "      return bisection(f,mid,b,tol,actual)\n",
        "\n",
        "  elif np.sign(f(b))== np.sign(f(mid)):\n",
        "\n",
        "      return bisection(f,a,mid,tol,actual)\n",
        "\n",
        "# Test\n",
        "f = lambda x: -x**2 + 4*x +12\n",
        "\n",
        "root = bisection(f, -3, 0, 0.01,-2)\n",
        "print(\"Tolerance = 0.01, Root = \"+str(root)+\", Error = \"+str(abs(-2-root)))\n",
        "\n",
        "\n",
        "root = bisection(f, -3, 0, 0.0001,-2)\n",
        "print(\"Tolerance = 0.0001, Root = \"+str(root)+\", Error = \"+str(abs(-2-root)))\n",
        "\n",
        "\n",
        "\n"
      ],
      "metadata": {
        "colab": {
          "base_uri": "https://localhost:8080/"
        },
        "id": "akF_gmsiQn2A",
        "outputId": "7d1d7a7c-5263-41b8-e5ef-d159d6f745cc"
      },
      "execution_count": 23,
      "outputs": [
        {
          "output_type": "stream",
          "name": "stdout",
          "text": [
            "Tolerance = 0.01, Root = -2.0009765625, Error = 0.0009765625\n",
            "Tolerance = 0.0001, Root = -1.9999923706054688, Error = 7.62939453125e-06\n"
          ]
        }
      ]
    },
    {
      "cell_type": "markdown",
      "source": [
        "This example utilizes my bisection method (demonstrated in section 19.3) to show that when the tolerance is lowered for root finding, the error dramatically decreases. "
      ],
      "metadata": {
        "id": "dhMSgYLqTcrf"
      }
    },
    {
      "cell_type": "markdown",
      "source": [
        "\n",
        "\n",
        "---\n",
        "\n"
      ],
      "metadata": {
        "id": "cYPavrFdTdTl"
      }
    },
    {
      "cell_type": "markdown",
      "source": [
        "## 19.3: Bisection Method "
      ],
      "metadata": {
        "id": "5D-3z_v6Tdkg"
      }
    },
    {
      "cell_type": "code",
      "source": [
        "import numpy as np\n",
        "\n",
        "def bisection(f,a,b,tol,actual):\n",
        "\n",
        "  mid = (a+b)/2\n",
        "\n",
        "  print(\"Guess: \"+str(mid))\n",
        "  print(\"Error: \"+str(np.abs(actual-mid))+'\\n')\n",
        "\n",
        "  if np.abs(f(mid)) < tol:\n",
        "\n",
        "    return mid\n",
        "\n",
        "  elif np.sign(f(a))== np.sign(f(mid)):\n",
        "\n",
        "      return bisection(f,mid,b,tol,actual)\n",
        "\n",
        "  elif np.sign(f(b))== np.sign(f(mid)):\n",
        "\n",
        "      return bisection(f,a,mid,tol,actual)\n",
        "\n",
        "# Test\n",
        "f = lambda x: -x**2 + 4*x +12\n",
        "\n",
        "root = bisection(f, -3, 0, 0.01,-2)\n",
        "\n",
        "print(\"Final Guess: \"+str(root)+'\\n')\n",
        "\n",
        "root = bisection(f,0,10,0.01,6)\n",
        "print(\"Final Guess: \"+str(root)+'\\n')\n"
      ],
      "metadata": {
        "id": "ai7ygXsYTtO3",
        "colab": {
          "base_uri": "https://localhost:8080/"
        },
        "outputId": "8086da37-3920-4a9c-d210-6cf86fc6ead0"
      },
      "execution_count": 17,
      "outputs": [
        {
          "output_type": "stream",
          "name": "stdout",
          "text": [
            "Guess: -1.5\n",
            "Error: 0.5\n",
            "\n",
            "Guess: -2.25\n",
            "Error: 0.25\n",
            "\n",
            "Guess: -1.875\n",
            "Error: 0.125\n",
            "\n",
            "Guess: -2.0625\n",
            "Error: 0.0625\n",
            "\n",
            "Guess: -1.96875\n",
            "Error: 0.03125\n",
            "\n",
            "Guess: -2.015625\n",
            "Error: 0.015625\n",
            "\n",
            "Guess: -1.9921875\n",
            "Error: 0.0078125\n",
            "\n",
            "Guess: -2.00390625\n",
            "Error: 0.00390625\n",
            "\n",
            "Guess: -1.998046875\n",
            "Error: 0.001953125\n",
            "\n",
            "Guess: -2.0009765625\n",
            "Error: 0.0009765625\n",
            "\n",
            "Final Guess: -2.0009765625\n",
            "\n",
            "Guess: 5.0\n",
            "Error: 1.0\n",
            "\n",
            "Guess: 7.5\n",
            "Error: 1.5\n",
            "\n",
            "Guess: 6.25\n",
            "Error: 0.25\n",
            "\n",
            "Guess: 5.625\n",
            "Error: 0.375\n",
            "\n",
            "Guess: 5.9375\n",
            "Error: 0.0625\n",
            "\n",
            "Guess: 6.09375\n",
            "Error: 0.09375\n",
            "\n",
            "Guess: 6.015625\n",
            "Error: 0.015625\n",
            "\n",
            "Guess: 5.9765625\n",
            "Error: 0.0234375\n",
            "\n",
            "Guess: 5.99609375\n",
            "Error: 0.00390625\n",
            "\n",
            "Guess: 6.005859375\n",
            "Error: 0.005859375\n",
            "\n",
            "Guess: 6.0009765625\n",
            "Error: 0.0009765625\n",
            "\n",
            "Final Guess: 6.0009765625\n",
            "\n"
          ]
        }
      ]
    },
    {
      "cell_type": "markdown",
      "source": [
        "In this example I created a root solver that utilizes the bisection method of root finding. I added in a print statment for every iterateration that the function takes to solve for the roots. This print statement shows the current guess and how far this guess is to the actual solution. This illustrates how the answer gets more and more accurate with every iteration. \n",
        "\n",
        "\n",
        "\n"
      ],
      "metadata": {
        "id": "FSf6CfI86CmN"
      }
    },
    {
      "cell_type": "markdown",
      "source": [
        "\n",
        "\n",
        "---\n",
        "\n"
      ],
      "metadata": {
        "id": "Qeb2q0sX7pMT"
      }
    },
    {
      "cell_type": "markdown",
      "source": [
        "## 19.4: Newton-Raphson Method"
      ],
      "metadata": {
        "id": "_RjLeb4x7qRK"
      }
    },
    {
      "cell_type": "code",
      "source": [
        "import numpy as np\n",
        "\n",
        "def newton_root(f, f_prime, x0, tol, actual):\n",
        "\n",
        "  print(\"Guess: \"+str(x0))\n",
        "  print(\"Error: \"+str(np.abs(actual-x0)))\n",
        "  print(\"\")\n",
        "\n",
        "  if abs(f(x0)) < tol:\n",
        "    return x0\n",
        "  else:\n",
        "    return newton_root(f,f_prime, x0-f(x0)/f_prime(x0),tol,actual)\n",
        "\n",
        "\n",
        "# Test\n",
        "f = lambda x: -x**2 + 4*x +12\n",
        "f_prime = lambda x: -2*x + 4\n",
        "\n",
        "root = newton_root(f, f_prime, -3, 0.01,-2)\n",
        "\n",
        "print(\"Final Guess: \"+str(root)+'\\n')\n",
        "\n",
        "root = newton_root(f, f_prime, 5, 0.01, 6)\n",
        "\n",
        "print(\"Final Guess: \"+str(root)+'\\n')\n"
      ],
      "metadata": {
        "colab": {
          "base_uri": "https://localhost:8080/"
        },
        "id": "XOuQ_DJc7V06",
        "outputId": "851e7dbe-a3e2-4062-abd2-c64a4dfd091f"
      },
      "execution_count": 20,
      "outputs": [
        {
          "output_type": "stream",
          "name": "stdout",
          "text": [
            "Guess: -3\n",
            "Error: 1\n",
            "\n",
            "Guess: -2.1\n",
            "Error: 0.10000000000000009\n",
            "\n",
            "Guess: -2.001219512195122\n",
            "Error: 0.0012195121951221743\n",
            "\n",
            "Final Guess: -2.001219512195122\n",
            "\n",
            "Guess: 5\n",
            "Error: 1\n",
            "\n",
            "Guess: 6.166666666666667\n",
            "Error: 0.16666666666666696\n",
            "\n",
            "Guess: 6.003333333333334\n",
            "Error: 0.0033333333333338544\n",
            "\n",
            "Guess: 6.0000013877324445\n",
            "Error: 1.38773244451329e-06\n",
            "\n",
            "Final Guess: 6.0000013877324445\n",
            "\n"
          ]
        }
      ]
    },
    {
      "cell_type": "markdown",
      "source": [
        "This example is similar to the bisection method example. I implemented a Newton-Raphson function of finding roots and printed out each guess and error from the actual value. Again, this demonstrates that with each iterative guess, the answer gets closer to the actual value. When compared to the bisection method (19.3), the Newton-Raphson method appears to take less iterations to find a solution."
      ],
      "metadata": {
        "id": "T6iIN46b_3Sn"
      }
    },
    {
      "cell_type": "markdown",
      "source": [
        "\n",
        "\n",
        "---\n",
        "\n"
      ],
      "metadata": {
        "id": "77dbTAy5AbTl"
      }
    },
    {
      "cell_type": "markdown",
      "source": [
        "## 19.5: Root Finding in Python"
      ],
      "metadata": {
        "id": "jGLQ7Q9yBcaq"
      }
    },
    {
      "cell_type": "code",
      "source": [
        "import numpy as np\n",
        "from scipy import optimize\n",
        "\n",
        "def root_solver(f, near):\n",
        "\n",
        "  r = optimize.fsolve(f,near) \n",
        "\n",
        "  return r\n",
        "\n",
        "# Test\n",
        "\n",
        "f = lambda x: -x**2 + 4*x +12\n",
        "\n",
        "roots = root_solver(f,[-4,5])\n",
        "\n",
        "print(\"The equation -x^2 + 4x + 12 has roots \" + str(roots))\n",
        "\n",
        "\n",
        "\n"
      ],
      "metadata": {
        "colab": {
          "base_uri": "https://localhost:8080/"
        },
        "id": "LSjcGhe0_2Z4",
        "outputId": "94113026-a9cc-4c19-dfbb-16750fc500a1"
      },
      "execution_count": 28,
      "outputs": [
        {
          "output_type": "stream",
          "name": "stdout",
          "text": [
            "The equation -x^2 + 4x + 12 has roots [-2.  6.]\n"
          ]
        }
      ]
    },
    {
      "cell_type": "markdown",
      "source": [
        "In this example I have created a simple function that utilizes the fsolve function to calculate the roots of any equation (where a root exists)."
      ],
      "metadata": {
        "id": "LKWppnyuC_hQ"
      }
    }
  ]
}