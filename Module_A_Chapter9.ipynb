{
  "nbformat": 4,
  "nbformat_minor": 0,
  "metadata": {
    "colab": {
      "name": "Module_A.ipynb",
      "provenance": [],
      "toc_visible": true
    },
    "kernelspec": {
      "name": "python3",
      "display_name": "Python 3"
    },
    "language_info": {
      "name": "python"
    }
  },
  "cells": [
    {
      "cell_type": "markdown",
      "source": [
        "# Module A: Representation of Numbers - 9.1, 9.2, 9.3\n",
        "\n",
        "Alexander Amaya"
      ],
      "metadata": {
        "id": "ZAmXFNRfy1PF"
      }
    },
    {
      "cell_type": "markdown",
      "source": [
        "## Base-N and Binary Example"
      ],
      "metadata": {
        "id": "Cimr-Jb01-hw"
      }
    },
    {
      "cell_type": "code",
      "execution_count": null,
      "metadata": {
        "id": "1QDjutk_yoEy",
        "colab": {
          "base_uri": "https://localhost:8080/"
        },
        "outputId": "9085d0c1-83a1-48d4-b7ed-c8863deb8e34"
      },
      "outputs": [
        {
          "output_type": "stream",
          "name": "stdout",
          "text": [
            "This is 32 represented in binary: 100000\n",
            "This is 32 represented in base 3: 1012\n",
            "This is 32 represented in decimal: 32\n"
          ]
        }
      ],
      "source": [
        "import math\n",
        "\n",
        "# This function will covert and decimal number to a number in base N (as defined by the user)\n",
        "# The output is formated in an array \n",
        "def base_n(N, decimal_number):\n",
        "\n",
        "  answer = []\n",
        "  while(decimal_number != 0):\n",
        "    answer.insert(0,decimal_number % N)\n",
        "    decimal_number = math.floor(decimal_number / N)\n",
        "\n",
        "  return answer\n",
        "\n",
        "# Quick function to print the array neatly\n",
        "def print_array(array):\n",
        "  answer = \"\"\n",
        "  for i in array:\n",
        "    answer = answer + str(i)\n",
        "  \n",
        "  return answer\n",
        "\n",
        "print(\"This is 32 represented in binary: \"+print_array(base_n(2,32)))\n",
        "print(\"This is 32 represented in base 3: \"+print_array(base_n(3,32)))\n",
        "\n",
        "# easy example to show that the function is accurate\n",
        "print(\"This is 32 represented in decimal: \"+print_array(base_n(10,32)))"
      ]
    },
    {
      "cell_type": "markdown",
      "source": [
        "This is a simple algorithm to convert the number to any base.\n",
        "Below is a breakdown of the algorithm used\n",
        "\n",
        "1.   Calculate the remainder of the starting number by dividing by the base number (N)\n",
        "2.   Insert the remainder into the beginning of the answer array.\n",
        "\n",
        "1.   Divide the starting number by N and save the floor of quotient as the starting number.\n",
        "2.   Repeat 1-3 until the starting number equals 0.\n",
        "\n",
        "\n",
        "Here is a visual example of converting 32 to binary using that the algorithm:\n",
        "![decimal to binary.png](data:image/png;base64,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)\n",
        "\n"
      ],
      "metadata": {
        "id": "DtUQ1QQ856ve"
      }
    },
    {
      "cell_type": "markdown",
      "source": [
        "\n",
        "\n",
        "---\n",
        "\n"
      ],
      "metadata": {
        "id": "J-F1Hm9hEx2l"
      }
    },
    {
      "cell_type": "markdown",
      "source": [
        "# Floating Point Number Example"
      ],
      "metadata": {
        "id": "IAsd90pSEmsc"
      }
    },
    {
      "cell_type": "code",
      "source": [
        "import math\n",
        "import sys\n",
        "\n",
        "# Converts a number represented in IEE 754 to a decimal number. \n",
        "def iee754ToDecimal(ieeNum):\n",
        "\n",
        "  print(\"IEE754 Number is: \"+ieeNum[0]+\" \"+ieeNum[1:12]+ \" \"+ieeNum[12:64])\n",
        "\n",
        "  sign = int(ieeNum[0])\n",
        "  \n",
        "  print(\"The sign  is: \"+str(sign))\n",
        "\n",
        "  exponent = int(ieeNum[1:12],2) - 1023\n",
        "\n",
        "  print('The exponent is: '+str(exponent))\n",
        "\n",
        "  fraction_str = ieeNum[12:64]\n",
        "  \n",
        "  # Comutes the fraction\n",
        "  i = 1\n",
        "  fraction = 0\n",
        "  for val in fraction_str:\n",
        "    fraction = fraction + int(val) * 2**(-1*i)\n",
        "    i = i+1\n",
        "\n",
        "  fraction = 1+fraction\n",
        "\n",
        "  print('The fraction is: '+str(fraction)+'\\n')\n",
        "\n",
        "  answer = ((-1)**sign)*(2**exponent)*fraction\n",
        "  return answer\n",
        "\n",
        "\n",
        "\n",
        "# Example 1\n",
        "print(\"The decimal number is: \"+str(iee754ToDecimal('1100000000101000000000000000000000000000000000000000000000000000'))+'\\n')\n",
        "\n",
        "# Example 2\n",
        "print(\"The decimal number is: \"+str(iee754ToDecimal('1100000001001000000000000000000000000000000000000000000000000000'))+'\\n')\n",
        "\n",
        "# Example 3\n",
        "print(\"The decimal number is: \"+str(iee754ToDecimal('0100000000001011001100110011001100110011001100110011001100110011'))+'\\n')\n",
        "# Python actually rounds this number"
      ],
      "metadata": {
        "id": "0TZ_165Xy0yg",
        "colab": {
          "base_uri": "https://localhost:8080/"
        },
        "outputId": "019ef0d1-917f-4a9c-80b3-185a2e5fede4"
      },
      "execution_count": null,
      "outputs": [
        {
          "output_type": "stream",
          "name": "stdout",
          "text": [
            "IEE754 Number is: 1 10000000010 1000000000000000000000000000000000000000000000000000\n",
            "The sign  is: 1\n",
            "The exponent is: 3\n",
            "The fraction is: 1.5\n",
            "\n",
            "The decimal number is: -12.0\n",
            "\n",
            "IEE754 Number is: 1 10000000100 1000000000000000000000000000000000000000000000000000\n",
            "The sign  is: 1\n",
            "The exponent is: 5\n",
            "The fraction is: 1.5\n",
            "\n",
            "The decimal number is: -48.0\n",
            "\n",
            "IEE754 Number is: 0 10000000000 1011001100110011001100110011001100110011001100110011\n",
            "The sign  is: 0\n",
            "The exponent is: 1\n",
            "The fraction is: 1.7\n",
            "\n",
            "The decimal number is: 3.4\n",
            "\n"
          ]
        }
      ]
    },
    {
      "cell_type": "markdown",
      "source": [
        "For the code example above the formula used to convert the IEE754 binary to decimal is the fomula presented in the book.\n",
        "\n",
        "The formula is: n = $(-1)^s2^{e-1023}(1+f)$\n",
        "\n",
        "This formula works by breaking the floating point number into three distict parts.\n",
        "\n",
        "\n",
        "1. The sign of the number (represented by the leftmost bit)\n",
        "2. The exponent of the number.\n",
        "3. The fraction of the number. \n",
        "\n",
        "\n",
        "\n",
        "\n",
        "\n",
        "\n",
        "\n",
        "\n"
      ],
      "metadata": {
        "id": "rerI9gJkM5pc"
      }
    },
    {
      "cell_type": "markdown",
      "source": [
        "\n",
        "\n",
        "---\n",
        "\n"
      ],
      "metadata": {
        "id": "nB8ycbkrSNqu"
      }
    },
    {
      "cell_type": "markdown",
      "source": [
        "# Round-Off Error Example"
      ],
      "metadata": {
        "id": "dbAvXK3oSLfm"
      }
    },
    {
      "cell_type": "code",
      "source": [
        "# This demonstration shows that 0.999... repeating will eventually be rounded to one due to the round-off error.\n",
        "\n",
        "def point_9_to_1():\n",
        "  num = 0.9\n",
        "  i = 1\n",
        "\n",
        "  while num != 1:\n",
        "    print(num)\n",
        "    num += 0.9/(10**i)\n",
        "    i += 1\n",
        "\n",
        "  print(num)\n",
        "\n",
        "  return i\n",
        "\n",
        "\n",
        "print(\"\\nThis is the number of repeating nines needed to cause Python to round the number to 1: \"+str(point_9_to_1()))"
      ],
      "metadata": {
        "id": "SG-T-ovzS3ty",
        "colab": {
          "base_uri": "https://localhost:8080/"
        },
        "outputId": "ddf77946-f257-465e-f05b-373ce4c296c8"
      },
      "execution_count": 31,
      "outputs": [
        {
          "output_type": "stream",
          "name": "stdout",
          "text": [
            "0.9\n",
            "0.99\n",
            "0.999\n",
            "0.9999\n",
            "0.99999\n",
            "0.9999990000000001\n",
            "0.9999999\n",
            "0.9999999900000001\n",
            "0.999999999\n",
            "0.9999999999\n",
            "0.99999999999\n",
            "0.999999999999\n",
            "0.9999999999999\n",
            "0.99999999999999\n",
            "0.999999999999999\n",
            "0.9999999999999999\n",
            "1.0\n",
            "\n",
            "This is the number of repeating nines needed to cause Python to round the number to 1: 17\n"
          ]
        }
      ]
    },
    {
      "cell_type": "markdown",
      "source": [
        "This demonstration shows that infinitely repeating 0.99.. will eventually be rounded to 1 in Python due to the round-off error. The function above counts just how many repeating 9s it takes for this to occur. "
      ],
      "metadata": {
        "id": "y9Ij8sMd11u9"
      }
    }
  ]
}