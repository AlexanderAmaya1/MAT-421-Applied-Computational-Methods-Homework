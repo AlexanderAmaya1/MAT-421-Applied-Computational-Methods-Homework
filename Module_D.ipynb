{
  "nbformat": 4,
  "nbformat_minor": 0,
  "metadata": {
    "colab": {
      "name": "Module_D",
      "provenance": [],
      "authorship_tag": "ABX9TyOdlbrbzEixfm/0FiWHL3Vk",
      "include_colab_link": true
    },
    "kernelspec": {
      "name": "python3",
      "display_name": "Python 3"
    },
    "language_info": {
      "name": "python"
    }
  },
  "cells": [
    {
      "cell_type": "markdown",
      "metadata": {
        "id": "view-in-github",
        "colab_type": "text"
      },
      "source": [
        "<a href=\"https://colab.research.google.com/github/AlexanderAmaya1/MAT-421-Homework/blob/main/Module_D.ipynb\" target=\"_parent\"><img src=\"https://colab.research.google.com/assets/colab-badge.svg\" alt=\"Open In Colab\"/></a>"
      ]
    },
    {
      "cell_type": "markdown",
      "source": [
        "# Module D: Linear Equations\n",
        "Alexander Amaya"
      ],
      "metadata": {
        "id": "GOpfiHDP7gbw"
      }
    },
    {
      "cell_type": "markdown",
      "source": [
        "## 1.1: Introduction "
      ],
      "metadata": {
        "id": "txe0_17A740T"
      }
    },
    {
      "cell_type": "code",
      "execution_count": 7,
      "metadata": {
        "id": "cpQFqLqG54vr",
        "colab": {
          "base_uri": "https://localhost:8080/"
        },
        "outputId": "5bd5d5ae-4213-4c96-a40c-7b3e59f31f1a"
      },
      "outputs": [
        {
          "output_type": "stream",
          "name": "stdout",
          "text": [
            "Simple Identity Matrix: \n",
            "[[1 0]\n",
            " [0 1]]\n",
            "\n",
            "\n",
            "Simple Matrix B: \n",
            "[[2 2]\n",
            " [1 1]]\n",
            "\n",
            "\n",
            "Simple Matrix B Transposed: \n",
            "[[2 1]\n",
            " [2 1]]\n"
          ]
        }
      ],
      "source": [
        "import numpy as np\n",
        "\n",
        "# Learning how to use matricies in NumPy\n",
        "\n",
        "a = np.matrix(\"1, 0; 0, 1\")\n",
        "print(\"Simple Identity Matrix: \")\n",
        "print(a)\n",
        "print('\\n')\n",
        "\n",
        "\n",
        "print(\"Simple Matrix B: \")\n",
        "\n",
        "b = np.matrix(\"2, 2; 1, 1\")\n",
        "print(b)\n",
        "print('\\n')\n",
        "\n",
        "\n",
        "print(\"Simple Matrix B Transposed: \")\n",
        "print(b.transpose())\n"
      ]
    },
    {
      "cell_type": "markdown",
      "source": [
        "For this example, I familiarized myself with the NumPy Matrix functionality."
      ],
      "metadata": {
        "id": "ywL0nuZE8Kd5"
      }
    },
    {
      "cell_type": "markdown",
      "source": [
        "## 1.2: Elements of Linear Algebra"
      ],
      "metadata": {
        "id": "dRdlC7of8Dk2"
      }
    },
    {
      "cell_type": "code",
      "source": [
        "import numpy as np\n",
        "from scipy import optimize\n",
        "\n",
        "# Function to determine the eigen values and vectors for any 2x2 matrix where they exist\n",
        "def eigen(a):\n",
        "\n",
        "  f  = lambda x: ((a.tolist()[0][0]-x) * (a.tolist()[1][1]-x)) - (a.tolist()[0][1]*a.tolist()[1][0])\n",
        " \n",
        "  eigen_values = []\n",
        "  eigen_values.append(np.round_(optimize.fsolve(f,100))[0])   \n",
        "  eigen_values.append(np.round_(optimize.fsolve(f,-100))[0]) \n",
        "\n",
        "  return eigen_values\n",
        "\n",
        "# 1.2.4\n",
        "# This demonstrates the use of the NumPy solution to calculate eigen values\n",
        "b = np.matrix(\"2, 2; 1, 1\")\n",
        "print(\"Matrix B: \")\n",
        "print(str(b)+'\\n')\n",
        "\n",
        "\n",
        "b_eigenvals = np.linalg.eig(b)\n",
        "\n",
        "print(\"The Eigenvalues of Matrix B are: \")\n",
        "print(b_eigenvals)\n",
        "print(\"Using my custom function: \")\n",
        "print(eigen(b))\n",
        "print('\\n')\n"
      ],
      "metadata": {
        "colab": {
          "base_uri": "https://localhost:8080/"
        },
        "id": "5LEK7YdF7fuU",
        "outputId": "f6211b88-de49-43cb-c693-fa16f1048a7a"
      },
      "execution_count": 40,
      "outputs": [
        {
          "output_type": "stream",
          "name": "stdout",
          "text": [
            "Matrix B: \n",
            "[[2 2]\n",
            " [1 1]]\n",
            "\n",
            "The Eigenvalues of Matrix B are: \n",
            "[3. 0.]\n",
            "Using my custom function: \n",
            "[3.0, -0.0]\n",
            "\n",
            "\n",
            "The Eigenvectors of Matrix B are: \n",
            "[[ 0.89442719 -0.70710678]\n",
            " [ 0.4472136   0.70710678]]\n"
          ]
        }
      ]
    },
    {
      "cell_type": "markdown",
      "source": [
        "In this examples I created a custom function that calculates the eigenvalues for any 2x2 matrix. The demo compares my results with the eig function in the NumPy Linear Algebra Library."
      ],
      "metadata": {
        "id": "KnWQiDzX8K3-"
      }
    },
    {
      "cell_type": "markdown",
      "source": [
        "## 1.3: Linear Regression"
      ],
      "metadata": {
        "id": "9fI0jAAO8LII"
      }
    },
    {
      "cell_type": "code",
      "source": [
        "import numpy as np\n",
        "\n",
        "# QR Decomposition for any 3x3 matrix\n",
        "def QR_decomp(a):\n",
        "  u1 = a[0]\n",
        "  e1 = u1 /(np.linalg.norm(u1))\n",
        " \n",
        "\n",
        "  u2 = a[1] - np.vdot(a[1],e1)*e1\n",
        "  \n",
        "  e2 = u2 / (np.linalg.norm(u2))\n",
        "\n",
        "\n",
        "  u3 = a[2] - ( np.vdot(a[2].A,e1.A) *e1) - (np.vdot(a[2].A,e2.A)*e2)\n",
        "\n",
        "  e3 = u3 / (np.linalg.norm(u3))\n",
        "\n",
        "\n",
        "  Q = np.matrix([   [e1.tolist()[0][0],e2.tolist()[0][0],e3.tolist()[0][0]],\n",
        "                   \n",
        "                    [e1.tolist()[0][1],e2.tolist()[0][1],e3.tolist()[0][1]],\n",
        "                   \n",
        "                    [e1.tolist()[0][2],e2.tolist()[0][2],e3.tolist()[0][2]]])\n",
        "\n",
        "  R = np.matrix([ [np.vdot(a[0].A,e1.A), np.vdot(a[1].A,e1.A), np.vdot(a[2].A,e1.A)],\n",
        "                  [0,                    np.vdot(a[1].A,e2.A), np.vdot(a[2].A,e2.A)],\n",
        "                  [0,                    0,                    np.vdot(a[2].A,e3.A)]])\n",
        "\n",
        "  return Q, R\n",
        "\n",
        "\n",
        "\n",
        "a = np.matrix([[1, 1, 0] , [1,0,1],[0,1,1]])\n",
        "\n",
        "print(\"Matrix A\")\n",
        "print(a)\n",
        "print(\"\\nQR Decomposition using NumPy Function\")\n",
        "print('\\nQ:')\n",
        "print(np.linalg.qr(a)[0])\n",
        "print('\\nR: ')\n",
        "print(np.linalg.qr(a)[1])\n",
        "print('\\n')\n",
        "\n",
        "print(\"QR Decomposition using my Custom Function\")\n",
        "Q,R = QR_decomp(a)\n",
        "print('Q:')\n",
        "print(Q)\n",
        "print('\\nR: ')\n",
        "print(R)"
      ],
      "metadata": {
        "colab": {
          "base_uri": "https://localhost:8080/"
        },
        "id": "St0ipvtn8Yp6",
        "outputId": "52ed55fc-38fd-4c8b-c133-cbfb1919b709"
      },
      "execution_count": 127,
      "outputs": [
        {
          "output_type": "stream",
          "name": "stdout",
          "text": [
            "Matrix A\n",
            "[[1 1 0]\n",
            " [1 0 1]\n",
            " [0 1 1]]\n",
            "QR Decomposition using NumPy Function\n",
            "\n",
            "Q:\n",
            "[[-0.70710678  0.40824829 -0.57735027]\n",
            " [-0.70710678 -0.40824829  0.57735027]\n",
            " [-0.          0.81649658  0.57735027]]\n",
            "\n",
            "R: \n",
            "[[-1.41421356 -0.70710678 -0.70710678]\n",
            " [ 0.          1.22474487  0.40824829]\n",
            " [ 0.          0.          1.15470054]]\n",
            "\n",
            "\n",
            "QR Decomposition using my Custom Function\n",
            "Q:\n",
            "[[ 0.70710678  0.40824829 -0.57735027]\n",
            " [ 0.70710678 -0.40824829  0.57735027]\n",
            " [ 0.          0.81649658  0.57735027]]\n",
            "\n",
            "R: \n",
            "[[1.41421356 0.70710678 0.70710678]\n",
            " [0.         1.22474487 0.40824829]\n",
            " [0.         0.         1.15470054]]\n"
          ]
        }
      ]
    },
    {
      "cell_type": "markdown",
      "source": [
        "For this example I created a custom QR decomposition fucntion utilizing the Gram-Schmidt procedure."
      ],
      "metadata": {
        "id": "gI-KOIcW8aEp"
      }
    }
  ]
}