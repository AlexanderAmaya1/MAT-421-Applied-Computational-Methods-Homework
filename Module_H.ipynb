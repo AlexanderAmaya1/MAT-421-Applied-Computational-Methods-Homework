{
  "nbformat": 4,
  "nbformat_minor": 0,
  "metadata": {
    "colab": {
      "name": "Module H.ipynb",
      "provenance": [],
      "authorship_tag": "ABX9TyOBbzTM31tAi98chSIqykXU",
      "include_colab_link": true
    },
    "kernelspec": {
      "name": "python3",
      "display_name": "Python 3"
    },
    "language_info": {
      "name": "python"
    }
  },
  "cells": [
    {
      "cell_type": "markdown",
      "metadata": {
        "id": "view-in-github",
        "colab_type": "text"
      },
      "source": [
        "<a href=\"https://colab.research.google.com/github/AlexanderAmaya1/MAT-421-Applied-Computational-Methods-Homework/blob/main/Module_H.ipynb\" target=\"_parent\"><img src=\"https://colab.research.google.com/assets/colab-badge.svg\" alt=\"Open In Colab\"/></a>"
      ]
    },
    {
      "cell_type": "markdown",
      "source": [
        "# Module H: Ordinary Differential Equations\n",
        "Alexander Amaya"
      ],
      "metadata": {
        "id": "g09iL92h2z1G"
      }
    },
    {
      "cell_type": "markdown",
      "source": [
        "## 22.1: ODE Initial Problem Statement"
      ],
      "metadata": {
        "id": "s33ceiPI3jdo"
      }
    },
    {
      "cell_type": "code",
      "execution_count": 7,
      "metadata": {
        "colab": {
          "base_uri": "https://localhost:8080/",
          "height": 315
        },
        "id": "41gsoEr12xI-",
        "outputId": "dce2851a-3ac9-4e89-f2cf-b1729a466e0e"
      },
      "outputs": [
        {
          "output_type": "display_data",
          "data": {
            "text/plain": [
              "<Figure size 432x288 with 1 Axes>"
            ],
            "image/png": "[encoded data removed]"
          },
          "metadata": {
            "needs_background": "light"
          }
        }
      ],
      "source": [
        "import numpy as np\n",
        "from scipy.integrate import odeint\n",
        "import matplotlib.pyplot as plt\n",
        "\n",
        "f = lambda x,t: 5*x-3\n",
        "\n",
        "t0 = 1\n",
        "\n",
        "x = np.linspace(0,10,100)\n",
        "\n",
        "t = odeint(f,t0,x)\n",
        "\n",
        "plt.plot(x, t[:,0])\n",
        "plt.xlabel('x')\n",
        "plt.ylabel('t')\n",
        "plt.show()"
      ]
    },
    {
      "cell_type": "markdown",
      "source": [
        "To illustrate the problem statement I utilized a library that allows for easly solving of a differential equation.\n",
        "\n"
      ],
      "metadata": {
        "id": "hNMoxYAZ31uG"
      }
    },
    {
      "cell_type": "markdown",
      "source": [
        "## 22.2: Reduction of Order"
      ],
      "metadata": {
        "id": "mnURmb8e3sLy"
      }
    },
    {
      "cell_type": "code",
      "source": [
        "import numpy as np\n",
        "\n",
        "def red_order(a1,b1,a2,b2):\n",
        "  m = np.matrix([[a1, b1],[a2, b2]])\n",
        "  dsdt = lambda s,t: m*s(t)\n",
        "\n",
        "  return dsdt, m\n",
        "\n",
        "a1 = 4\n",
        "b1 = -2\n",
        "a2 = 1\n",
        "b2 = 1\n",
        "\n",
        "dsdt,m = red_order(a1,b1,a2,b2)\n",
        "print(m)"
      ],
      "metadata": {
        "colab": {
          "base_uri": "https://localhost:8080/"
        },
        "id": "BnR3YgII3u5n",
        "outputId": "e08a878f-4944-4514-edc7-9b04dd618763"
      },
      "execution_count": 12,
      "outputs": [
        {
          "output_type": "stream",
          "name": "stdout",
          "text": [
            "[[ 4 -2]\n",
            " [ 1  1]]\n"
          ]
        }
      ]
    },
    {
      "cell_type": "markdown",
      "source": [
        "To illustrate the reduction of order I created a very simple function that can take the coefficients of differential equations and put them into matrix form for a reduced differential equation. "
      ],
      "metadata": {
        "id": "w4LJlkyR32IF"
      }
    },
    {
      "cell_type": "markdown",
      "source": [
        "## 22.3: Euler Method"
      ],
      "metadata": {
        "id": "P8etQv9n3vI6"
      }
    },
    {
      "cell_type": "code",
      "source": [
        "import numpy as np\n",
        "\n",
        "def euler(f,h,t,s0):\n",
        "  s = np.zeros(len(t))\n",
        "  s[0] = s0\n",
        "\n",
        "  for i in range(0, len(t) - 1):\n",
        "      s[i + 1] = s[i] + h*f(t[i], s[i])\n",
        "\n",
        "  return s\n",
        "\n",
        "# Define parameters\n",
        "f = lambda t, s: np.exp(-t) # ODE\n",
        "h = 0.1 # Step size\n",
        "t = np.arange(0, 1 + h, h) # Numerical grid\n",
        "s0 = -1 # Initial Condition\n",
        "\n",
        "\n",
        "# Explicit Euler Method\n",
        "s = euler(f,h,t,s0)\n",
        "\n",
        "print(s)"
      ],
      "metadata": {
        "colab": {
          "base_uri": "https://localhost:8080/"
        },
        "id": "iaE_RSlp31Yq",
        "outputId": "ac290b52-9244-4a8e-e957-5b7b0f5adefe"
      },
      "execution_count": 3,
      "outputs": [
        {
          "output_type": "stream",
          "name": "stdout",
          "text": [
            "[-1.         -0.9        -0.80951626 -0.72764318 -0.65356136 -0.58652936\n",
            " -0.52587629 -0.47099513 -0.4213366  -0.3764037  -0.33574673]\n"
          ]
        }
      ]
    },
    {
      "cell_type": "markdown",
      "source": [
        "In this example I took the Euler method example from the book and created a generalized function. "
      ],
      "metadata": {
        "id": "EzV8fI1F32gU"
      }
    }
  ]
}